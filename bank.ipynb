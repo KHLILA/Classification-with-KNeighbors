{
 "cells": [
  {
   "cell_type": "code",
   "execution_count": 80,
   "metadata": {
    "executionInfo": {
     "elapsed": 395,
     "status": "ok",
     "timestamp": 1656005859396,
     "user": {
      "displayName": "BOULBIR KHALIL ELRAHMAN",
      "userId": "08320885860113192057"
     },
     "user_tz": -60
    },
    "id": "pP-_LfShZcVF"
   },
   "outputs": [],
   "source": [
    "from sklearn.linear_model import SGDClassifier\n",
    "from sklearn.neighbors import KNeighborsClassifier\n",
    "from sklearn.model_selection import train_test_split,GridSearchCV\n",
    "from sklearn.impute import MissingIndicator,SimpleImputer\n",
    "from sklearn.preprocessing import StandardScaler,OneHotEncoder\n",
    "from sklearn.pipeline import make_pipeline\n",
    "from sklearn.compose import make_column_transformer,make_column_selector\n",
    "from sklearn.feature_selection import RFECV\n",
    "import pandas as pd\n",
    "import numpy as np\n",
    "import matplotlib.pyplot as plt\n",
    "from google.colab import drive"
   ]
  },
  {
   "cell_type": "code",
   "execution_count": 81,
   "metadata": {
    "colab": {
     "base_uri": "https://localhost:8080/"
    },
    "executionInfo": {
     "elapsed": 4012,
     "status": "ok",
     "timestamp": 1656005865055,
     "user": {
      "displayName": "BOULBIR KHALIL ELRAHMAN",
      "userId": "08320885860113192057"
     },
     "user_tz": -60
    },
    "id": "nnL-2Y19aZ9o",
    "outputId": "5b009271-df8b-4a29-c436-24462821f2cd"
   },
   "outputs": [
    {
     "name": "stdout",
     "output_type": "stream",
     "text": [
      "Drive already mounted at /content/drive; to attempt to forcibly remount, call drive.mount(\"/content/drive\", force_remount=True).\n"
     ]
    }
   ],
   "source": [
    "drive.mount(\"/content/drive\")#HER TO GET DATA FROM MY DRIVE"
   ]
  },
  {
   "cell_type": "code",
   "execution_count": 82,
   "metadata": {
    "executionInfo": {
     "elapsed": 107,
     "status": "ok",
     "timestamp": 1656005865062,
     "user": {
      "displayName": "BOULBIR KHALIL ELRAHMAN",
      "userId": "08320885860113192057"
     },
     "user_tz": -60
    },
    "id": "zgBw0nabamDp"
   },
   "outputs": [],
   "source": [
    "data=pd.read_csv(\"/content/drive/MyDrive/data/bank-full.csv\") #transfer data cv to pandas"
   ]
  },
  {
   "cell_type": "code",
   "execution_count": 83,
   "metadata": {
    "colab": {
     "base_uri": "https://localhost:8080/",
     "height": 206
    },
    "executionInfo": {
     "elapsed": 107,
     "status": "ok",
     "timestamp": 1656005865068,
     "user": {
      "displayName": "BOULBIR KHALIL ELRAHMAN",
      "userId": "08320885860113192057"
     },
     "user_tz": -60
    },
    "id": "iEVwl7PgbLbX",
    "outputId": "0da08e8e-be73-4328-c78a-f22ad5870bdf"
   },
   "outputs": [
    {
     "data": {
      "text/html": [
       "\n",
       "  <div id=\"df-9808d9ec-37d8-4906-9c20-a04d11945ce9\">\n",
       "    <div class=\"colab-df-container\">\n",
       "      <div>\n",
       "<style scoped>\n",
       "    .dataframe tbody tr th:only-of-type {\n",
       "        vertical-align: middle;\n",
       "    }\n",
       "\n",
       "    .dataframe tbody tr th {\n",
       "        vertical-align: top;\n",
       "    }\n",
       "\n",
       "    .dataframe thead th {\n",
       "        text-align: right;\n",
       "    }\n",
       "</style>\n",
       "<table border=\"1\" class=\"dataframe\">\n",
       "  <thead>\n",
       "    <tr style=\"text-align: right;\">\n",
       "      <th></th>\n",
       "      <th>age</th>\n",
       "      <th>job</th>\n",
       "      <th>marital</th>\n",
       "      <th>education</th>\n",
       "      <th>default</th>\n",
       "      <th>balance</th>\n",
       "      <th>housing</th>\n",
       "      <th>loan</th>\n",
       "      <th>contact</th>\n",
       "      <th>day</th>\n",
       "      <th>month</th>\n",
       "      <th>duration</th>\n",
       "      <th>campaign</th>\n",
       "      <th>pdays</th>\n",
       "      <th>previous</th>\n",
       "      <th>poutcome</th>\n",
       "      <th>y</th>\n",
       "    </tr>\n",
       "  </thead>\n",
       "  <tbody>\n",
       "    <tr>\n",
       "      <th>0</th>\n",
       "      <td>58</td>\n",
       "      <td>management</td>\n",
       "      <td>married</td>\n",
       "      <td>tertiary</td>\n",
       "      <td>no</td>\n",
       "      <td>2143</td>\n",
       "      <td>yes</td>\n",
       "      <td>no</td>\n",
       "      <td>unknown</td>\n",
       "      <td>5</td>\n",
       "      <td>may</td>\n",
       "      <td>261</td>\n",
       "      <td>1</td>\n",
       "      <td>-1</td>\n",
       "      <td>0</td>\n",
       "      <td>unknown</td>\n",
       "      <td>no</td>\n",
       "    </tr>\n",
       "    <tr>\n",
       "      <th>1</th>\n",
       "      <td>44</td>\n",
       "      <td>technician</td>\n",
       "      <td>single</td>\n",
       "      <td>secondary</td>\n",
       "      <td>no</td>\n",
       "      <td>29</td>\n",
       "      <td>yes</td>\n",
       "      <td>no</td>\n",
       "      <td>unknown</td>\n",
       "      <td>5</td>\n",
       "      <td>may</td>\n",
       "      <td>151</td>\n",
       "      <td>1</td>\n",
       "      <td>-1</td>\n",
       "      <td>0</td>\n",
       "      <td>unknown</td>\n",
       "      <td>no</td>\n",
       "    </tr>\n",
       "    <tr>\n",
       "      <th>2</th>\n",
       "      <td>33</td>\n",
       "      <td>entrepreneur</td>\n",
       "      <td>married</td>\n",
       "      <td>secondary</td>\n",
       "      <td>no</td>\n",
       "      <td>2</td>\n",
       "      <td>yes</td>\n",
       "      <td>yes</td>\n",
       "      <td>unknown</td>\n",
       "      <td>5</td>\n",
       "      <td>may</td>\n",
       "      <td>76</td>\n",
       "      <td>1</td>\n",
       "      <td>-1</td>\n",
       "      <td>0</td>\n",
       "      <td>unknown</td>\n",
       "      <td>no</td>\n",
       "    </tr>\n",
       "    <tr>\n",
       "      <th>3</th>\n",
       "      <td>47</td>\n",
       "      <td>blue-collar</td>\n",
       "      <td>married</td>\n",
       "      <td>unknown</td>\n",
       "      <td>no</td>\n",
       "      <td>1506</td>\n",
       "      <td>yes</td>\n",
       "      <td>no</td>\n",
       "      <td>unknown</td>\n",
       "      <td>5</td>\n",
       "      <td>may</td>\n",
       "      <td>92</td>\n",
       "      <td>1</td>\n",
       "      <td>-1</td>\n",
       "      <td>0</td>\n",
       "      <td>unknown</td>\n",
       "      <td>no</td>\n",
       "    </tr>\n",
       "    <tr>\n",
       "      <th>4</th>\n",
       "      <td>33</td>\n",
       "      <td>unknown</td>\n",
       "      <td>single</td>\n",
       "      <td>unknown</td>\n",
       "      <td>no</td>\n",
       "      <td>1</td>\n",
       "      <td>no</td>\n",
       "      <td>no</td>\n",
       "      <td>unknown</td>\n",
       "      <td>5</td>\n",
       "      <td>may</td>\n",
       "      <td>198</td>\n",
       "      <td>1</td>\n",
       "      <td>-1</td>\n",
       "      <td>0</td>\n",
       "      <td>unknown</td>\n",
       "      <td>no</td>\n",
       "    </tr>\n",
       "  </tbody>\n",
       "</table>\n",
       "</div>\n",
       "      <button class=\"colab-df-convert\" onclick=\"convertToInteractive('df-9808d9ec-37d8-4906-9c20-a04d11945ce9')\"\n",
       "              title=\"Convert this dataframe to an interactive table.\"\n",
       "              style=\"display:none;\">\n",
       "        \n",
       "  <svg xmlns=\"http://www.w3.org/2000/svg\" height=\"24px\"viewBox=\"0 0 24 24\"\n",
       "       width=\"24px\">\n",
       "    <path d=\"M0 0h24v24H0V0z\" fill=\"none\"/>\n",
       "    <path d=\"M18.56 5.44l.94 2.06.94-2.06 2.06-.94-2.06-.94-.94-2.06-.94 2.06-2.06.94zm-11 1L8.5 8.5l.94-2.06 2.06-.94-2.06-.94L8.5 2.5l-.94 2.06-2.06.94zm10 10l.94 2.06.94-2.06 2.06-.94-2.06-.94-.94-2.06-.94 2.06-2.06.94z\"/><path d=\"M17.41 7.96l-1.37-1.37c-.4-.4-.92-.59-1.43-.59-.52 0-1.04.2-1.43.59L10.3 9.45l-7.72 7.72c-.78.78-.78 2.05 0 2.83L4 21.41c.39.39.9.59 1.41.59.51 0 1.02-.2 1.41-.59l7.78-7.78 2.81-2.81c.8-.78.8-2.07 0-2.86zM5.41 20L4 18.59l7.72-7.72 1.47 1.35L5.41 20z\"/>\n",
       "  </svg>\n",
       "      </button>\n",
       "      \n",
       "  <style>\n",
       "    .colab-df-container {\n",
       "      display:flex;\n",
       "      flex-wrap:wrap;\n",
       "      gap: 12px;\n",
       "    }\n",
       "\n",
       "    .colab-df-convert {\n",
       "      background-color: #E8F0FE;\n",
       "      border: none;\n",
       "      border-radius: 50%;\n",
       "      cursor: pointer;\n",
       "      display: none;\n",
       "      fill: #1967D2;\n",
       "      height: 32px;\n",
       "      padding: 0 0 0 0;\n",
       "      width: 32px;\n",
       "    }\n",
       "\n",
       "    .colab-df-convert:hover {\n",
       "      background-color: #E2EBFA;\n",
       "      box-shadow: 0px 1px 2px rgba(60, 64, 67, 0.3), 0px 1px 3px 1px rgba(60, 64, 67, 0.15);\n",
       "      fill: #174EA6;\n",
       "    }\n",
       "\n",
       "    [theme=dark] .colab-df-convert {\n",
       "      background-color: #3B4455;\n",
       "      fill: #D2E3FC;\n",
       "    }\n",
       "\n",
       "    [theme=dark] .colab-df-convert:hover {\n",
       "      background-color: #434B5C;\n",
       "      box-shadow: 0px 1px 3px 1px rgba(0, 0, 0, 0.15);\n",
       "      filter: drop-shadow(0px 1px 2px rgba(0, 0, 0, 0.3));\n",
       "      fill: #FFFFFF;\n",
       "    }\n",
       "  </style>\n",
       "\n",
       "      <script>\n",
       "        const buttonEl =\n",
       "          document.querySelector('#df-9808d9ec-37d8-4906-9c20-a04d11945ce9 button.colab-df-convert');\n",
       "        buttonEl.style.display =\n",
       "          google.colab.kernel.accessAllowed ? 'block' : 'none';\n",
       "\n",
       "        async function convertToInteractive(key) {\n",
       "          const element = document.querySelector('#df-9808d9ec-37d8-4906-9c20-a04d11945ce9');\n",
       "          const dataTable =\n",
       "            await google.colab.kernel.invokeFunction('convertToInteractive',\n",
       "                                                     [key], {});\n",
       "          if (!dataTable) return;\n",
       "\n",
       "          const docLinkHtml = 'Like what you see? Visit the ' +\n",
       "            '<a target=\"_blank\" href=https://colab.research.google.com/notebooks/data_table.ipynb>data table notebook</a>'\n",
       "            + ' to learn more about interactive tables.';\n",
       "          element.innerHTML = '';\n",
       "          dataTable['output_type'] = 'display_data';\n",
       "          await google.colab.output.renderOutput(dataTable, element);\n",
       "          const docLink = document.createElement('div');\n",
       "          docLink.innerHTML = docLinkHtml;\n",
       "          element.appendChild(docLink);\n",
       "        }\n",
       "      </script>\n",
       "    </div>\n",
       "  </div>\n",
       "  "
      ],
      "text/plain": [
       "   age           job  marital  education default  balance housing loan  \\\n",
       "0   58    management  married   tertiary      no     2143     yes   no   \n",
       "1   44    technician   single  secondary      no       29     yes   no   \n",
       "2   33  entrepreneur  married  secondary      no        2     yes  yes   \n",
       "3   47   blue-collar  married    unknown      no     1506     yes   no   \n",
       "4   33       unknown   single    unknown      no        1      no   no   \n",
       "\n",
       "   contact  day month  duration  campaign  pdays  previous poutcome   y  \n",
       "0  unknown    5   may       261         1     -1         0  unknown  no  \n",
       "1  unknown    5   may       151         1     -1         0  unknown  no  \n",
       "2  unknown    5   may        76         1     -1         0  unknown  no  \n",
       "3  unknown    5   may        92         1     -1         0  unknown  no  \n",
       "4  unknown    5   may       198         1     -1         0  unknown  no  "
      ]
     },
     "execution_count": 83,
     "metadata": {},
     "output_type": "execute_result"
    }
   ],
   "source": [
    "data.head()"
   ]
  },
  {
   "cell_type": "code",
   "execution_count": 84,
   "metadata": {
    "executionInfo": {
     "elapsed": 18,
     "status": "ok",
     "timestamp": 1656005868841,
     "user": {
      "displayName": "BOULBIR KHALIL ELRAHMAN",
      "userId": "08320885860113192057"
     },
     "user_tz": -60
    },
    "id": "nw-yYbgLvWLR"
   },
   "outputs": [],
   "source": [
    "X=data.drop([\"y\"],axis=1)\n",
    "y=data[\"y\"].replace([\"yes\",\"no\"],[1,0])"
   ]
  },
  {
   "cell_type": "code",
   "execution_count": 85,
   "metadata": {
    "executionInfo": {
     "elapsed": 497,
     "status": "ok",
     "timestamp": 1656005871444,
     "user": {
      "displayName": "BOULBIR KHALIL ELRAHMAN",
      "userId": "08320885860113192057"
     },
     "user_tz": -60
    },
    "id": "yjAl2tdRvkVD"
   },
   "outputs": [],
   "source": [
    "X['housing']=X['housing'].replace([\"yes\",\"no\"],[1,0])\n",
    "X['loan']=X['loan'].replace([\"yes\",\"no\"],[1,0])\n",
    "X['default']=X['default'].replace([\"yes\",\"no\"],[1,0])"
   ]
  },
  {
   "cell_type": "code",
   "execution_count": 86,
   "metadata": {
    "executionInfo": {
     "elapsed": 307,
     "status": "ok",
     "timestamp": 1656005875221,
     "user": {
      "displayName": "BOULBIR KHALIL ELRAHMAN",
      "userId": "08320885860113192057"
     },
     "user_tz": -60
    },
    "id": "n607oKObAt1H"
   },
   "outputs": [],
   "source": [
    "from sklearn import metrics\n",
    "X_=X[[\"age\",'balance','duration','pdays','default','housing','loan',\"day\"]]"
   ]
  },
  {
   "cell_type": "code",
   "execution_count": 87,
   "metadata": {
    "colab": {
     "base_uri": "https://localhost:8080/"
    },
    "executionInfo": {
     "elapsed": 13924,
     "status": "ok",
     "timestamp": 1656005891345,
     "user": {
      "displayName": "BOULBIR KHALIL ELRAHMAN",
      "userId": "08320885860113192057"
     },
     "user_tz": -60
    },
    "id": "SFQ5u7wMIktq",
    "outputId": "5cbdcb10-ef9e-4aef-d0cb-e8e469a36eee"
   },
   "outputs": [
    {
     "data": {
      "text/plain": [
       "array([3, 6, 5, 7, 1, 2, 1, 4])"
      ]
     },
     "execution_count": 87,
     "metadata": {},
     "output_type": "execute_result"
    }
   ],
   "source": [
    "#this is for ony varibale quantite\n",
    "select=RFECV(SGDClassifier(random_state=0),\n",
    "             cv=5,\n",
    "             min_features_to_select=2,\n",
    "             step=1\n",
    "             \n",
    "             )\n",
    "select.fit_transform(X_,y)\n",
    "select.ranking_"
   ]
  },
  {
   "cell_type": "markdown",
   "metadata": {
    "id": "j4pErq5LbhCb"
   },
   "source": [
    "her we see the rank we  chose only variable have lot of rank in my case i chose all varibales\n",
    "\n",
    "```\n",
    "# This is formatted as code\n",
    "```\n",
    "\n"
   ]
  },
  {
   "cell_type": "code",
   "execution_count": 88,
   "metadata": {
    "colab": {
     "base_uri": "https://localhost:8080/"
    },
    "executionInfo": {
     "elapsed": 328992,
     "status": "ok",
     "timestamp": 1656006347604,
     "user": {
      "displayName": "BOULBIR KHALIL ELRAHMAN",
      "userId": "08320885860113192057"
     },
     "user_tz": -60
    },
    "id": "69NQb5Eabt5h",
    "outputId": "f6e3c307-70b6-4e9c-d950-60d06a67d76b"
   },
   "outputs": [
    {
     "name": "stdout",
     "output_type": "stream",
     "text": [
      "{'n_neighbors': 47}\n"
     ]
    }
   ],
   "source": [
    "X_=X[['age','balance','duration','pdays','default','housing','loan','day']]#data without minmu rank because the minimum is not itressed me i taked the last is 1\n",
    "#chose best parametre for calssfier\n",
    "param={\"n_neighbors\":np.arange(1,50)}\n",
    "grid=GridSearchCV(KNeighborsClassifier(),param,cv=50,scoring=\"neg_mean_squared_error\")\n",
    "grid.fit(X_,y)\n",
    "print(grid.best_params_)\n"
   ]
  },
  {
   "cell_type": "markdown",
   "metadata": {
    "id": "utTvmM8Hi9Lm"
   },
   "source": [
    "split my data"
   ]
  },
  {
   "cell_type": "code",
   "execution_count": 89,
   "metadata": {
    "executionInfo": {
     "elapsed": 674,
     "status": "ok",
     "timestamp": 1656006352536,
     "user": {
      "displayName": "BOULBIR KHALIL ELRAHMAN",
      "userId": "08320885860113192057"
     },
     "user_tz": -60
    },
    "id": "ChiULnXr0RUe"
   },
   "outputs": [],
   "source": [
    "X_train,X_test,y_train,y_test=train_test_split(X,y,test_size=0.2)\n",
    "y_test=np.array(y_test).reshape(9043,1)"
   ]
  },
  {
   "cell_type": "code",
   "execution_count": 90,
   "metadata": {
    "colab": {
     "base_uri": "https://localhost:8080/"
    },
    "executionInfo": {
     "elapsed": 512,
     "status": "ok",
     "timestamp": 1656006357284,
     "user": {
      "displayName": "BOULBIR KHALIL ELRAHMAN",
      "userId": "08320885860113192057"
     },
     "user_tz": -60
    },
    "id": "F0v0cJ1p4QZn",
    "outputId": "5948258b-d5f8-4f16-f1d4-2e4e0a547cee"
   },
   "outputs": [
    {
     "data": {
      "text/plain": [
       "(array([], shape=(9043, 0), dtype=bool),\n",
       " array([], shape=(9043, 0), dtype=bool))"
      ]
     },
     "execution_count": 90,
     "metadata": {},
     "output_type": "execute_result"
    }
   ],
   "source": [
    "#test if i have  none value\n",
    "test_na=MissingIndicator()\n",
    "test_na.fit_transform(y_test),test_na.fit_transform(X_test)"
   ]
  },
  {
   "cell_type": "code",
   "execution_count": null,
   "metadata": {
    "id": "P6GWb8EtjISR"
   },
   "outputs": [],
   "source": [
    "#split varibles to varibale quality and quantite"
   ]
  },
  {
   "cell_type": "code",
   "execution_count": 91,
   "metadata": {
    "executionInfo": {
     "elapsed": 571,
     "status": "ok",
     "timestamp": 1656006362210,
     "user": {
      "displayName": "BOULBIR KHALIL ELRAHMAN",
      "userId": "08320885860113192057"
     },
     "user_tz": -60
    },
    "id": "9raeV3HSyCkb"
   },
   "outputs": [],
   "source": [
    "num_columns=[\"age\",\"balance\",\"duration\",\"pdays\",\"day\"]#quantitative variable\n",
    "category_columns=[\"job\",\"marital\",\"education\",\"contact\",\"month\",\"poutcome\"]#quality varibale\n",
    "category_pipeline=make_pipeline(SimpleImputer(strategy=\"most_frequent\"),OneHotEncoder())# transfer quality variabe to quantitative varible using onehot\n",
    "num_piplines=make_pipeline(SimpleImputer(strategy=\"most_frequent\"),StandardScaler())#normalisation of data qualitative\n"
   ]
  },
  {
   "cell_type": "code",
   "execution_count": 92,
   "metadata": {
    "executionInfo": {
     "elapsed": 411,
     "status": "ok",
     "timestamp": 1656006364725,
     "user": {
      "displayName": "BOULBIR KHALIL ELRAHMAN",
      "userId": "08320885860113192057"
     },
     "user_tz": -60
    },
    "id": "j8aGv4MuzIrK"
   },
   "outputs": [],
   "source": [
    "\n",
    "process=make_column_transformer((num_piplines,num_columns),(category_pipeline,category_columns))#we make pipline"
   ]
  },
  {
   "cell_type": "code",
   "execution_count": 93,
   "metadata": {
    "colab": {
     "base_uri": "https://localhost:8080/"
    },
    "executionInfo": {
     "elapsed": 65192,
     "status": "ok",
     "timestamp": 1656006431612,
     "user": {
      "displayName": "BOULBIR KHALIL ELRAHMAN",
      "userId": "08320885860113192057"
     },
     "user_tz": -60
    },
    "id": "zevbIT9J0A3_",
    "outputId": "e48fca36-6ef7-4e44-a533-3b827464b511"
   },
   "outputs": [
    {
     "data": {
      "text/plain": [
       "0.9001050652510506"
      ]
     },
     "execution_count": 93,
     "metadata": {},
     "output_type": "execute_result"
    }
   ],
   "source": [
    "#we make the final pipline betwin the process and Kneighbors model \n",
    "model=make_pipeline(process,KNeighborsClassifier(n_neighbors=47))\n",
    "model.fit(X_train,y_train)\n",
    "model.score(X_train,y_train)"
   ]
  },
  {
   "cell_type": "code",
   "execution_count": 94,
   "metadata": {
    "executionInfo": {
     "elapsed": 16228,
     "status": "ok",
     "timestamp": 1656006455647,
     "user": {
      "displayName": "BOULBIR KHALIL ELRAHMAN",
      "userId": "08320885860113192057"
     },
     "user_tz": -60
    },
    "id": "RtqcPgH32yRq"
   },
   "outputs": [],
   "source": [
    "#we predict values\n",
    "y_pred=model.predict(X_test)"
   ]
  },
  {
   "cell_type": "code",
   "execution_count": 95,
   "metadata": {
    "executionInfo": {
     "elapsed": 168,
     "status": "ok",
     "timestamp": 1656006455659,
     "user": {
      "displayName": "BOULBIR KHALIL ELRAHMAN",
      "userId": "08320885860113192057"
     },
     "user_tz": -60
    },
    "id": "tnlCPFka0_94"
   },
   "outputs": [],
   "source": [
    "#put predcit and test data in dataframe\n",
    "df=pd.DataFrame(y_pred,columns=[\"prediction\"])\n",
    "df[\"test\"]=y_test\n",
    "df[\"deff\"]=df[\"prediction\"]-df[\"test\"]"
   ]
  },
  {
   "cell_type": "code",
   "execution_count": 96,
   "metadata": {
    "colab": {
     "base_uri": "https://localhost:8080/",
     "height": 572
    },
    "executionInfo": {
     "elapsed": 1044,
     "status": "ok",
     "timestamp": 1656006456541,
     "user": {
      "displayName": "BOULBIR KHALIL ELRAHMAN",
      "userId": "08320885860113192057"
     },
     "user_tz": -60
    },
    "id": "thHSGRzh3-Fm",
    "outputId": "2f8174b8-79f4-4f21-cfc7-08e9b3793501"
   },
   "outputs": [
    {
     "name": "stderr",
     "output_type": "stream",
     "text": [
      "No handles with labels found to put in legend.\n"
     ]
    },
    {
     "data": {
      "text/plain": [
       "<matplotlib.legend.Legend at 0x7fddae9a7050>"
      ]
     },
     "execution_count": 96,
     "metadata": {},
     "output_type": "execute_result"
    },
    {
     "data": {
      "image/png": "[encoded data removed]",
      "text/plain": [
       "<Figure size 1440x648 with 1 Axes>"
      ]
     },
     "metadata": {
      "needs_background": "light"
     },
     "output_type": "display_data"
    }
   ],
   "source": [
    "#we plot data to see defrence \n",
    "plt.figure(figsize=(20,9))\n",
    "plt.plot(df[\"prediction\"][:1000])\n",
    "plt.plot(df[\"test\"][:1000])\n",
    "plt.legend()"
   ]
  },
  {
   "cell_type": "code",
   "execution_count": 97,
   "metadata": {
    "colab": {
     "base_uri": "https://localhost:8080/"
    },
    "executionInfo": {
     "elapsed": 105,
     "status": "ok",
     "timestamp": 1656006456548,
     "user": {
      "displayName": "BOULBIR KHALIL ELRAHMAN",
      "userId": "08320885860113192057"
     },
     "user_tz": -60
    },
    "id": "RMzkB9TWkqxf",
    "outputId": "c9dc9c21-fa94-4a1c-d634-b383be742933"
   },
   "outputs": [
    {
     "name": "stdout",
     "output_type": "stream",
     "text": [
      "Test Score: 0.32 RMSE\n"
     ]
    }
   ],
   "source": [
    "from sklearn.metrics import mean_squared_error\n",
    "# calculate root mean squared error\n",
    "testScore = np.sqrt(mean_squared_error(df[\"prediction\"],df[\"test\"]))\n",
    "print('Test Score: %.8f RMSE' % (testScore))"
   ]
  },
  {
   "cell_type": "code",
   "execution_count": 98,
   "metadata": {
    "colab": {
     "base_uri": "https://localhost:8080/"
    },
    "executionInfo": {
     "elapsed": 372,
     "status": "ok",
     "timestamp": 1656006462118,
     "user": {
      "displayName": "BOULBIR KHALIL ELRAHMAN",
      "userId": "08320885860113192057"
     },
     "user_tz": -60
    },
    "id": "f0uOY2Al5IPx",
    "outputId": "a067806c-127f-4f27-d187-45284ff633ba"
   },
   "outputs": [
    {
     "name": "stdout",
     "output_type": "stream",
     "text": [
      "\n",
      "[ Model performance is GOOD enough ]\n",
      "\n",
      "RMSE of test prediction < Standard deviation of test dataset\n",
      "0.31913435 < 0.32\n"
     ]
    }
   ],
   "source": [
    "if testScore < df[\"test\"].std():\n",
    "    print('\\n[ Model performance is GOOD enough ]')\n",
    "    print('\\nRMSE of test prediction < Standard deviation of test dataset')\n",
    "    print('%.8f' % (testScore), '<', '%.8f' % (df[\"test\"].std()))\n",
    "else:\n",
    "    print('\\n[ Model performance is NOT GOOD enough ]')\n",
    "    print('\\nRMSE of test prediction > Standard deviation of test dataset')\n",
    "    print('%.8f' % (testScore), '>', '%.8f' % (df[\"test\"].std()))\n"
   ]
  },
  {
   "cell_type": "code",
   "execution_count": 104,
   "metadata": {
    "executionInfo": {
     "elapsed": 502,
     "status": "ok",
     "timestamp": 1656006847963,
     "user": {
      "displayName": "BOULBIR KHALIL ELRAHMAN",
      "userId": "08320885860113192057"
     },
     "user_tz": -60
    },
    "id": "9fEWs3wa73IH"
   },
   "outputs": [],
   "source": [
    "#the last etape is to transfer output to yes or no\n",
    "#data should be in this order of variable\n",
    "def calssifcation(model,data):\n",
    "    result=[]\n",
    "    x=data.drop([\"y\"],axis=1)\n",
    "    predction=model.predict(x)\n",
    "    for i in predction:\n",
    "        if i==0:\n",
    "            result.append(\"no\")\n",
    "        else:\n",
    "            result.append(\"yes\")\n",
    "    data[\"result\"]=result\n",
    "    return data"
   ]
  },
  {
   "cell_type": "code",
   "execution_count": 105,
   "metadata": {
    "colab": {
     "base_uri": "https://localhost:8080/"
    },
    "executionInfo": {
     "elapsed": 345,
     "status": "ok",
     "timestamp": 1656006852874,
     "user": {
      "displayName": "BOULBIR KHALIL ELRAHMAN",
      "userId": "08320885860113192057"
     },
     "user_tz": -60
    },
    "id": "oKyov5Q2rZlf",
    "outputId": "13dc75fb-1907-4a5b-952f-8a54cb1d5dab"
   },
   "outputs": [
    {
     "data": {
      "text/plain": [
       "array([0, 0, 0, 0, 0, 0, 0, 0, 0, 0, 0, 0, 0, 0, 0, 0, 0, 0, 0, 0, 0, 0,\n",
       "       0, 0, 0, 0, 0, 0, 0, 0, 1, 0, 0, 1, 0, 0, 0, 0, 0, 0, 0, 0, 0, 0,\n",
       "       0, 0, 0, 0, 0, 0])"
      ]
     },
     "execution_count": 105,
     "metadata": {},
     "output_type": "execute_result"
    }
   ],
   "source": [
    "#exemple for data 100 donee\n",
    "dt=pd.read_csv(\"/content/drive/MyDrive/data/bank_.csv\") #transfer data cv to pandas)\n",
    "calssifcation(model,dt.iloc[:50])"
   ]
  }
 ],
 "metadata": {
  "colab": {
   "authorship_tag": "ABX9TyMJZLE92a3NivkF3woZDgOG",
   "collapsed_sections": [],
   "name": "bank.ipynb",
   "provenance": []
  },
  "kernelspec": {
   "display_name": "Python 3 (ipykernel)",
   "language": "python",
   "name": "python3"
  },
  "language_info": {
   "codemirror_mode": {
    "name": "ipython",
    "version": 3
   },
   "file_extension": ".py",
   "mimetype": "text/x-python",
   "name": "python",
   "nbconvert_exporter": "python",
   "pygments_lexer": "ipython3",
   "version": "3.9.7"
  }
 },
 "nbformat": 4,
 "nbformat_minor": 1
}
